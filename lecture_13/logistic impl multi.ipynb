{
 "cells": [
  {
   "cell_type": "code",
   "execution_count": 1,
   "metadata": {},
   "outputs": [],
   "source": [
    "import numpy as np\n",
    "import matplotlib.pyplot as plt\n",
    "\n",
    "from sklearn.datasets import make_blobs"
   ]
  },
  {
   "cell_type": "code",
   "execution_count": 539,
   "metadata": {},
   "outputs": [],
   "source": [
    "X, y = make_blobs(centers=5, random_state=42)"
   ]
  },
  {
   "cell_type": "code",
   "execution_count": 540,
   "metadata": {},
   "outputs": [
    {
     "data": {
      "text/plain": [
       "<matplotlib.collections.PathCollection at 0x7febab396ac8>"
      ]
     },
     "execution_count": 540,
     "metadata": {},
     "output_type": "execute_result"
    },
    {
     "data": {
      "image/png": "[encoded data removed]",
      "text/plain": [
       "<Figure size 432x288 with 1 Axes>"
      ]
     },
     "metadata": {
      "needs_background": "light"
     },
     "output_type": "display_data"
    }
   ],
   "source": [
    "plt.scatter(X[:, 0], X[:, 1], c=y)"
   ]
  },
  {
   "cell_type": "code",
   "execution_count": 541,
   "metadata": {},
   "outputs": [
    {
     "data": {
      "text/plain": [
       "(100, 2)"
      ]
     },
     "execution_count": 541,
     "metadata": {},
     "output_type": "execute_result"
    }
   ],
   "source": [
    "X.shape"
   ]
  },
  {
   "cell_type": "code",
   "execution_count": 542,
   "metadata": {},
   "outputs": [],
   "source": [
    "from sklearn.linear_model import LogisticRegression"
   ]
  },
  {
   "cell_type": "code",
   "execution_count": 543,
   "metadata": {},
   "outputs": [],
   "source": [
    "model = LogisticRegression(multi_class=\"ovr\")"
   ]
  },
  {
   "cell_type": "code",
   "execution_count": 544,
   "metadata": {},
   "outputs": [
    {
     "name": "stderr",
     "output_type": "stream",
     "text": [
      "/home/deepdroid/.local/lib/python3.6/site-packages/sklearn/linear_model/logistic.py:433: FutureWarning: Default solver will be changed to 'lbfgs' in 0.22. Specify a solver to silence this warning.\n",
      "  FutureWarning)\n"
     ]
    },
    {
     "data": {
      "text/plain": [
       "LogisticRegression(C=1.0, class_weight=None, dual=False, fit_intercept=True,\n",
       "          intercept_scaling=1, max_iter=100, multi_class='ovr',\n",
       "          n_jobs=None, penalty='l2', random_state=None, solver='warn',\n",
       "          tol=0.0001, verbose=0, warm_start=False)"
      ]
     },
     "execution_count": 544,
     "metadata": {},
     "output_type": "execute_result"
    }
   ],
   "source": [
    "model.fit(X, y)"
   ]
  },
  {
   "cell_type": "code",
   "execution_count": 545,
   "metadata": {},
   "outputs": [
    {
     "data": {
      "text/plain": [
       "array([[ 0.15723405,  0.56059404],\n",
       "       [ 1.60425863, -1.04393857],\n",
       "       [-0.43230329, -1.21957208],\n",
       "       [-0.46864287,  0.17569381],\n",
       "       [ 0.25639893,  0.08000686]])"
      ]
     },
     "execution_count": 545,
     "metadata": {},
     "output_type": "execute_result"
    }
   ],
   "source": [
    "model.coef_"
   ]
  },
  {
   "cell_type": "code",
   "execution_count": 546,
   "metadata": {},
   "outputs": [
    {
     "data": {
      "text/plain": [
       "array([-3.98821934, -1.27601734, -0.46895235, -4.02761111, -1.45528081])"
      ]
     },
     "execution_count": 546,
     "metadata": {},
     "output_type": "execute_result"
    }
   ],
   "source": [
    "model.intercept_"
   ]
  },
  {
   "cell_type": "code",
   "execution_count": 549,
   "metadata": {},
   "outputs": [
    {
     "data": {
      "text/plain": [
       "array([[4.27442760e-04, 1.32330759e-03, 8.59942819e-01, 1.11682049e-01,\n",
       "        2.66243816e-02],\n",
       "       [4.70196217e-01, 2.57095374e-02, 3.47512197e-04, 2.28021694e-02,\n",
       "        4.80944564e-01],\n",
       "       [5.80701046e-01, 3.14077007e-07, 6.67786421e-05, 2.42565859e-01,\n",
       "        1.76666002e-01],\n",
       "       [2.57103962e-01, 6.11328800e-02, 2.12983725e-02, 5.24922881e-02,\n",
       "        6.07972497e-01],\n",
       "       [1.75903436e-01, 1.83415419e-10, 6.60562998e-03, 7.76590340e-01,\n",
       "        4.09005932e-02],\n",
       "       [6.99306348e-05, 6.82034005e-03, 8.71608563e-01, 1.04572507e-01,\n",
       "        1.69286591e-02]])"
      ]
     },
     "execution_count": 549,
     "metadata": {},
     "output_type": "execute_result"
    }
   ],
   "source": [
    "model.predict_proba(X[:6])"
   ]
  },
  {
   "cell_type": "code",
   "execution_count": 614,
   "metadata": {},
   "outputs": [],
   "source": [
    "class CustomLogisticReg:\n",
    "    \n",
    "    def __init__(self, lr=.1, max_iters=20):\n",
    "        self.lr = lr\n",
    "        self.max_iters = max_iters\n",
    "    \n",
    "    def fit(self, X, y):\n",
    "        X = np.hstack([np.ones([X.shape[0], 1]), X])\n",
    "        \n",
    "        self.classes = np.unique(y)\n",
    "        \n",
    "        self.thetas = np.random.randn(len(self.classes), X.shape[1])\n",
    "        \n",
    "        for i, item in enumerate(self.classes):\n",
    "            y_mod = (y==item).astype(int)\n",
    "            self.__theta = self.thetas[i]\n",
    "            for i in range(self.max_iters):\n",
    "                self.gradient_accend(X, y_mod)\n",
    "                \n",
    "        self.coef_ = self.thetas[:, -2:]\n",
    "        self.intercept_ = self.thetas[:, 0]\n",
    "    \n",
    "    def gradient_accend(self, X, y):\n",
    "        delta_theta = self.gradient(X, y)\n",
    "        self.__theta += delta_theta\n",
    "        \n",
    "    def gradient(self, X, y):\n",
    "        yh = self.hypothesis(X)\n",
    "        ya = y.reshape(-1, 1)\n",
    "        diff = (yh - ya)\n",
    "        \n",
    "        dll2theta = np.dot(diff.T, X).mean(axis=0)\n",
    "        return -dll2theta*self.lr\n",
    "    \n",
    "    def hypothesis(self, X):\n",
    "        g = np.dot(X, self.__theta.T)\n",
    "        return 1/(1 + np.exp(-g))\n",
    "    \n",
    "    def predict_proba(self, X):\n",
    "        X = np.hstack([np.ones([X.shape[0], 1]), X])\n",
    "        g = np.dot(X, self.thetas.T)\n",
    "        sigmoid = 1/(1 + np.exp(-g))\n",
    "        return sigmoid #sigmoid/sigmoid.sum(axis=1).reshape(-1,1) #if needs to convert to a valid prob distribution \n",
    "    \n",
    "    def predict(self, X):\n",
    "        values = self.predict_proba(X)\n",
    "        return np.argmax(values, axis=1)\n",
    "        \n",
    "    def score(self, X, y):\n",
    "        yp = self.predict(X)\n",
    "        return np.mean((yp==y))\n",
    "        "
   ]
  },
  {
   "cell_type": "code",
   "execution_count": 615,
   "metadata": {},
   "outputs": [],
   "source": [
    "model = CustomLogisticReg(lr=.0001, max_iters=1200)"
   ]
  },
  {
   "cell_type": "code",
   "execution_count": 616,
   "metadata": {},
   "outputs": [],
   "source": [
    "model.fit(X, y)"
   ]
  },
  {
   "cell_type": "code",
   "execution_count": 617,
   "metadata": {},
   "outputs": [
    {
     "data": {
      "text/plain": [
       "(-10, 10)"
      ]
     },
     "execution_count": 617,
     "metadata": {},
     "output_type": "execute_result"
    },
    {
     "data": {
      "image/png": "[encoded data removed]",
      "text/plain": [
       "<Figure size 432x288 with 1 Axes>"
      ]
     },
     "metadata": {
      "needs_background": "light"
     },
     "output_type": "display_data"
    }
   ],
   "source": [
    "x1 = np.linspace(-10, 10, 10)\n",
    "plt.scatter(X[:, 0], X[:, 1], c=y)\n",
    "for ((m1, m2), c) in zip(model.coef_, model.intercept_):\n",
    "    x2 = -(m1*x1)/m2 - (c/m2)\n",
    "    plt.plot(x1, x2)\n",
    "plt.ylim(-10, 10)"
   ]
  },
  {
   "cell_type": "code",
   "execution_count": 618,
   "metadata": {},
   "outputs": [
    {
     "data": {
      "text/plain": [
       "array([-1.57289068, -0.55183439,  0.32443168, -3.4099881 , -1.60399641])"
      ]
     },
     "execution_count": 618,
     "metadata": {},
     "output_type": "execute_result"
    }
   ],
   "source": [
    "model.intercept_"
   ]
  },
  {
   "cell_type": "code",
   "execution_count": 619,
   "metadata": {},
   "outputs": [
    {
     "data": {
      "text/plain": [
       "array([[  6.50476568,   2.22764079],\n",
       "       [ 19.25229135,  -7.46657529],\n",
       "       [ -9.44785227, -24.1400928 ],\n",
       "       [ -6.14974534,  -1.52755862],\n",
       "       [ 17.79586309,  -4.19306116]])"
      ]
     },
     "execution_count": 619,
     "metadata": {},
     "output_type": "execute_result"
    }
   ],
   "source": [
    "model.coef_"
   ]
  },
  {
   "cell_type": "code",
   "execution_count": 620,
   "metadata": {},
   "outputs": [
    {
     "data": {
      "text/plain": [
       "array([2, 0, 3, 0, 3, 2])"
      ]
     },
     "execution_count": 620,
     "metadata": {},
     "output_type": "execute_result"
    }
   ],
   "source": [
    "model.predict(X[:6])"
   ]
  },
  {
   "cell_type": "code",
   "execution_count": 621,
   "metadata": {},
   "outputs": [
    {
     "data": {
      "text/plain": [
       "array([[1.00672959e-23, 2.25198101e-38, 1.00000000e+00, 1.00000000e+00,\n",
       "        1.61724359e-41],\n",
       "       [1.00000000e+00, 3.58356746e-02, 8.37046914e-68, 2.28105587e-11,\n",
       "        9.99984459e-01],\n",
       "       [1.34011749e-01, 1.53277468e-53, 5.19634308e-78, 8.59653868e-01,\n",
       "        5.78074392e-40],\n",
       "       [9.99944627e-01, 4.97707497e-06, 5.00811539e-37, 4.55818150e-06,\n",
       "        2.53550109e-02],\n",
       "       [1.69181060e-19, 3.79769489e-96, 3.13504916e-36, 1.00000000e+00,\n",
       "        2.21717121e-81],\n",
       "       [3.03083520e-29, 1.92653318e-36, 1.00000000e+00, 1.00000000e+00,\n",
       "        2.98045617e-43]])"
      ]
     },
     "execution_count": 621,
     "metadata": {},
     "output_type": "execute_result"
    }
   ],
   "source": [
    "model.predict_proba(X[:6])"
   ]
  },
  {
   "cell_type": "code",
   "execution_count": 622,
   "metadata": {},
   "outputs": [
    {
     "data": {
      "text/plain": [
       "0.65"
      ]
     },
     "execution_count": 622,
     "metadata": {},
     "output_type": "execute_result"
    }
   ],
   "source": [
    "model.score(X, y)"
   ]
  },
  {
   "cell_type": "code",
   "execution_count": null,
   "metadata": {},
   "outputs": [],
   "source": []
  }
 ],
 "metadata": {
  "kernelspec": {
   "display_name": "Python 3",
   "language": "python",
   "name": "python3"
  },
  "language_info": {
   "codemirror_mode": {
    "name": "ipython",
    "version": 3
   },
   "file_extension": ".py",
   "mimetype": "text/x-python",
   "name": "python",
   "nbconvert_exporter": "python",
   "pygments_lexer": "ipython3",
   "version": "3.6.9"
  }
 },
 "nbformat": 4,
 "nbformat_minor": 4
}
