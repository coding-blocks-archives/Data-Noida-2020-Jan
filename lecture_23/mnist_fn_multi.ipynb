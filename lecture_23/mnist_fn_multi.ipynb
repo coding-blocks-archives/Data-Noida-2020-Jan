{
 "cells": [
  {
   "cell_type": "code",
   "execution_count": 1,
   "metadata": {},
   "outputs": [],
   "source": [
    "from tensorflow.keras.models import Model\n",
    "from tensorflow.keras.layers import Dense, Input\n",
    "\n",
    "from sklearn.datasets import make_blobs\n",
    "\n",
    "import numpy as np\n",
    "\n",
    "import matplotlib.pyplot as plt\n",
    "from sklearn.preprocessing import OneHotEncoder\n",
    "from sklearn.model_selection import train_test_split"
   ]
  },
  {
   "cell_type": "code",
   "execution_count": 2,
   "metadata": {},
   "outputs": [],
   "source": [
    "data = np.load(\"../datasets/mnist/mnist_train_small.npy\")"
   ]
  },
  {
   "cell_type": "code",
   "execution_count": 3,
   "metadata": {},
   "outputs": [],
   "source": [
    "X, y = data[:, 1:], data[:, 0]"
   ]
  },
  {
   "cell_type": "code",
   "execution_count": 4,
   "metadata": {},
   "outputs": [],
   "source": [
    "y_hot = OneHotEncoder().fit_transform(y.reshape(-1, 1)).todense()"
   ]
  },
  {
   "cell_type": "code",
   "execution_count": 8,
   "metadata": {},
   "outputs": [],
   "source": [
    "y_hot_oe = OneHotEncoder().fit_transform((y % 2).reshape(-1, 1)).todense()"
   ]
  },
  {
   "cell_type": "code",
   "execution_count": 21,
   "metadata": {},
   "outputs": [
    {
     "data": {
      "text/plain": [
       "array([1, 1, 1, ..., 0, 1, 1], dtype=uint8)"
      ]
     },
     "execution_count": 21,
     "metadata": {},
     "output_type": "execute_result"
    }
   ],
   "source": [
    "(y%2)"
   ]
  },
  {
   "cell_type": "code",
   "execution_count": 12,
   "metadata": {},
   "outputs": [
    {
     "data": {
      "text/plain": [
       "matrix([[0., 1.],\n",
       "        [0., 1.],\n",
       "        [0., 1.],\n",
       "        [0., 1.],\n",
       "        [1., 0.],\n",
       "        [1., 0.],\n",
       "        [1., 0.],\n",
       "        [0., 1.],\n",
       "        [0., 1.],\n",
       "        [1., 0.]])"
      ]
     },
     "execution_count": 12,
     "metadata": {},
     "output_type": "execute_result"
    }
   ],
   "source": [
    "y_hot_oe[:10]"
   ]
  },
  {
   "cell_type": "code",
   "execution_count": 13,
   "metadata": {},
   "outputs": [],
   "source": [
    "in_layer = Input(shape=(784,))\n",
    "d1 = Dense(400, activation=\"sigmoid\", name=\"l1\")(in_layer)\n",
    "d2 = Dense(200, activation=\"sigmoid\", name=\"l2\")(d1)\n",
    "d3 = Dense(100, activation=\"sigmoid\", name=\"l3\")(d2)\n",
    "d41 = Dense(50, activation=\"sigmoid\", name=\"l41\")(d3)\n",
    "d42 = Dense(50, activation=\"sigmoid\", name=\"l42\")(d3)\n",
    "out_layer_1 = Dense(10, activation=\"softmax\", name=\"o1\")(d41)\n",
    "out_layer_2 = Dense(2, activation=\"softmax\", name=\"o2\")(d42)\n",
    "\n",
    "model = Model(inputs=[in_layer], outputs=[out_layer_1, out_layer_2])"
   ]
  },
  {
   "cell_type": "code",
   "execution_count": 14,
   "metadata": {},
   "outputs": [
    {
     "name": "stdout",
     "output_type": "stream",
     "text": [
      "Model: \"model_2\"\n",
      "__________________________________________________________________________________________________\n",
      "Layer (type)                    Output Shape         Param #     Connected to                     \n",
      "==================================================================================================\n",
      "input_3 (InputLayer)            [(None, 784)]        0                                            \n",
      "__________________________________________________________________________________________________\n",
      "l1 (Dense)                      (None, 400)          314000      input_3[0][0]                    \n",
      "__________________________________________________________________________________________________\n",
      "l2 (Dense)                      (None, 200)          80200       l1[0][0]                         \n",
      "__________________________________________________________________________________________________\n",
      "l3 (Dense)                      (None, 100)          20100       l2[0][0]                         \n",
      "__________________________________________________________________________________________________\n",
      "l41 (Dense)                     (None, 50)           5050        l3[0][0]                         \n",
      "__________________________________________________________________________________________________\n",
      "l42 (Dense)                     (None, 50)           5050        l3[0][0]                         \n",
      "__________________________________________________________________________________________________\n",
      "o1 (Dense)                      (None, 10)           510         l41[0][0]                        \n",
      "__________________________________________________________________________________________________\n",
      "o2 (Dense)                      (None, 2)            102         l42[0][0]                        \n",
      "==================================================================================================\n",
      "Total params: 425,012\n",
      "Trainable params: 425,012\n",
      "Non-trainable params: 0\n",
      "__________________________________________________________________________________________________\n"
     ]
    }
   ],
   "source": [
    "model.summary()"
   ]
  },
  {
   "cell_type": "code",
   "execution_count": 15,
   "metadata": {},
   "outputs": [],
   "source": [
    "model.compile(optimizer=\"adam\",\n",
    "    loss=\"categorical_crossentropy\",\n",
    "    metrics=[\"accuracy\"])"
   ]
  },
  {
   "cell_type": "code",
   "execution_count": null,
   "metadata": {},
   "outputs": [],
   "source": []
  },
  {
   "cell_type": "code",
   "execution_count": 17,
   "metadata": {},
   "outputs": [
    {
     "name": "stdout",
     "output_type": "stream",
     "text": [
      "Train on 19999 samples\n",
      "Epoch 1/10\n",
      "19999/19999 [==============================] - 10s 512us/sample - loss: 1.4098 - o1_loss: 1.1342 - o2_loss: 0.2756 - o1_accuracy: 0.6691 - o2_accuracy: 0.8825\n",
      "Epoch 2/10\n",
      "19999/19999 [==============================] - 8s 423us/sample - loss: 0.6833 - o1_loss: 0.5020 - o2_loss: 0.1813 - o1_accuracy: 0.8545 - o2_accuracy: 0.9317\n",
      "Epoch 3/10\n",
      "19999/19999 [==============================] - 9s 433us/sample - loss: 0.5611 - o1_loss: 0.4021 - o2_loss: 0.1590 - o1_accuracy: 0.8780 - o2_accuracy: 0.9418\n",
      "Epoch 4/10\n",
      "19999/19999 [==============================] - 9s 451us/sample - loss: 0.5356 - o1_loss: 0.3778 - o2_loss: 0.1578 - o1_accuracy: 0.8868 - o2_accuracy: 0.9417\n",
      "Epoch 5/10\n",
      "19999/19999 [==============================] - 9s 437us/sample - loss: 0.5238 - o1_loss: 0.3724 - o2_loss: 0.1514 - o1_accuracy: 0.8852 - o2_accuracy: 0.9437\n",
      "Epoch 6/10\n",
      "19999/19999 [==============================] - 9s 428us/sample - loss: 0.4910 - o1_loss: 0.3434 - o2_loss: 0.1476 - o1_accuracy: 0.8938 - o2_accuracy: 0.9445\n",
      "Epoch 7/10\n",
      "19999/19999 [==============================] - 8s 420us/sample - loss: 0.4527 - o1_loss: 0.3201 - o2_loss: 0.1326 - o1_accuracy: 0.9017 - o2_accuracy: 0.9517\n",
      "Epoch 8/10\n",
      "19999/19999 [==============================] - 8s 414us/sample - loss: 0.4144 - o1_loss: 0.2962 - o2_loss: 0.1181 - o1_accuracy: 0.9096 - o2_accuracy: 0.9575\n",
      "Epoch 9/10\n",
      "19999/19999 [==============================] - 8s 397us/sample - loss: 0.3874 - o1_loss: 0.2753 - o2_loss: 0.1122 - o1_accuracy: 0.9172 - o2_accuracy: 0.9589\n",
      "Epoch 10/10\n",
      "19999/19999 [==============================] - 9s 426us/sample - loss: 0.4004 - o1_loss: 0.2801 - o2_loss: 0.1203 - o1_accuracy: 0.9132 - o2_accuracy: 0.9550\n"
     ]
    }
   ],
   "source": [
    "outcome = model.fit(X, [y_hot, y_hot_oe], epochs=10)"
   ]
  },
  {
   "cell_type": "code",
   "execution_count": 24,
   "metadata": {},
   "outputs": [],
   "source": [
    "o1, o2 = model.predict(X[:5])"
   ]
  },
  {
   "cell_type": "code",
   "execution_count": 26,
   "metadata": {},
   "outputs": [
    {
     "data": {
      "text/plain": [
       "array([5, 7, 9, 5, 2])"
      ]
     },
     "execution_count": 26,
     "metadata": {},
     "output_type": "execute_result"
    }
   ],
   "source": [
    "o1.argmax(axis=1)"
   ]
  },
  {
   "cell_type": "code",
   "execution_count": 27,
   "metadata": {},
   "outputs": [
    {
     "data": {
      "text/plain": [
       "array([1, 1, 1, 1, 0])"
      ]
     },
     "execution_count": 27,
     "metadata": {},
     "output_type": "execute_result"
    }
   ],
   "source": [
    "o2.argmax(axis=1)"
   ]
  },
  {
   "cell_type": "code",
   "execution_count": null,
   "metadata": {},
   "outputs": [],
   "source": []
  }
 ],
 "metadata": {
  "kernelspec": {
   "display_name": "Python 3",
   "language": "python",
   "name": "python3"
  },
  "language_info": {
   "codemirror_mode": {
    "name": "ipython",
    "version": 3
   },
   "file_extension": ".py",
   "mimetype": "text/x-python",
   "name": "python",
   "nbconvert_exporter": "python",
   "pygments_lexer": "ipython3",
   "version": "3.6.10"
  }
 },
 "nbformat": 4,
 "nbformat_minor": 4
}
