{
 "cells": [
  {
   "cell_type": "code",
   "execution_count": 5,
   "metadata": {},
   "outputs": [],
   "source": [
    "from flask import Flask"
   ]
  },
  {
   "cell_type": "code",
   "execution_count": 6,
   "metadata": {},
   "outputs": [],
   "source": [
    "app = Flask(\"chacha\")"
   ]
  },
  {
   "cell_type": "code",
   "execution_count": 7,
   "metadata": {},
   "outputs": [],
   "source": [
    "@app.route(\"/home/\")\n",
    "def hello():\n",
    "    return \"Hey handsome\""
   ]
  },
  {
   "cell_type": "code",
   "execution_count": null,
   "metadata": {},
   "outputs": [
    {
     "name": "stdout",
     "output_type": "stream",
     "text": [
      " * Serving Flask app \"chacha\" (lazy loading)\n",
      " * Environment: production\n",
      "   WARNING: Do not use the development server in a production environment.\n",
      "   Use a production WSGI server instead.\n",
      " * Debug mode: off\n"
     ]
    },
    {
     "name": "stderr",
     "output_type": "stream",
     "text": [
      " * Running on http://127.0.0.1:5000/ (Press CTRL+C to quit)\n",
      "127.0.0.1 - - [02/Apr/2020 16:36:23] \"GET /home/ HTTP/1.1\" 200 -\n",
      "127.0.0.1 - - [02/Apr/2020 16:36:23] \"GET /home/ HTTP/1.1\" 200 -\n",
      "127.0.0.1 - - [02/Apr/2020 16:36:23] \"GET /favicon.ico HTTP/1.1\" 404 -\n",
      "127.0.0.1 - - [02/Apr/2020 16:37:19] \"GET /home/ HTTP/1.1\" 200 -\n",
      "127.0.0.1 - - [02/Apr/2020 16:37:19] \"GET /home/ HTTP/1.1\" 200 -\n",
      "127.0.0.1 - - [02/Apr/2020 16:37:19] \"GET /favicon.ico HTTP/1.1\" 404 -\n",
      "127.0.0.1 - - [02/Apr/2020 16:40:38] \"GET /home/ HTTP/1.1\" 200 -\n",
      "127.0.0.1 - - [02/Apr/2020 16:40:38] \"GET /home/ HTTP/1.1\" 200 -\n",
      "127.0.0.1 - - [02/Apr/2020 16:44:13] \"GET /home/ HTTP/1.1\" 200 -\n",
      "127.0.0.1 - - [02/Apr/2020 16:44:13] \"GET /home/ HTTP/1.1\" 200 -\n",
      "127.0.0.1 - - [02/Apr/2020 16:44:22] \"GET /home/ HTTP/1.1\" 200 -\n"
     ]
    }
   ],
   "source": [
    "app.run()"
   ]
  },
  {
   "cell_type": "code",
   "execution_count": null,
   "metadata": {},
   "outputs": [],
   "source": []
  }
 ],
 "metadata": {
  "kernelspec": {
   "display_name": "Python 3",
   "language": "python",
   "name": "python3"
  },
  "language_info": {
   "codemirror_mode": {
    "name": "ipython",
    "version": 3
   },
   "file_extension": ".py",
   "mimetype": "text/x-python",
   "name": "python",
   "nbconvert_exporter": "python",
   "pygments_lexer": "ipython3",
   "version": "3.7.2"
  }
 },
 "nbformat": 4,
 "nbformat_minor": 4
}
